{
 "cells": [
  {
   "cell_type": "markdown",
   "id": "b59936fc",
   "metadata": {},
   "source": [
    "# 🚢 Titanic Veri Seti - Ödev Cevapları\n",
    "Bu defterde Titanic veri seti üzerinde sorular cevaplanmıştır.\n",
    "Veri, modul_1_veri_yukleme_tanima dosyasındaki ile aynıdır."
   ]
  },
  {
   "cell_type": "code",
   "execution_count": null,
   "id": "13121af6",
   "metadata": {},
   "outputs": [],
   "source": [
    "# Gerekli kütüphaneler\n",
    "import pandas as pd\n",
    "import matplotlib.pyplot as plt\n",
    "import seaborn as sns\n",
    "\n",
    "# Titanic veri setini yükleyelim (ders anlatım dosyasındaki URL ile aynı!)\n",
    "df = pd.read_csv(\"https://raw.githubusercontent.com/datasciencedojo/datasets/master/titanic.csv\")\n",
    "df.head()"
   ]
  },
  {
   "cell_type": "markdown",
   "id": "d60dbd9e",
   "metadata": {},
   "source": [
    "### Soru 1: Veri setinde kaç satır ve kaç sütun var?"
   ]
  },
  {
   "cell_type": "code",
   "execution_count": null,
   "id": "0fb08e7e",
   "metadata": {},
   "outputs": [],
   "source": [
    "df.shape"
   ]
  },
  {
   "cell_type": "markdown",
   "id": "fb6b98c6",
   "metadata": {},
   "source": [
    "### Soru 2: Tüm sütun isimlerini yazdırın."
   ]
  },
  {
   "cell_type": "code",
   "execution_count": null,
   "id": "1514475e",
   "metadata": {},
   "outputs": [],
   "source": [
    "df.columns"
   ]
  },
  {
   "cell_type": "markdown",
   "id": "d2336756",
   "metadata": {},
   "source": [
    "### Soru 3: Yaş ortalaması ve medyanı nedir?"
   ]
  },
  {
   "cell_type": "code",
   "execution_count": null,
   "id": "34cf235a",
   "metadata": {},
   "outputs": [],
   "source": [
    "df['Age'].mean(), df['Age'].median()"
   ]
  },
  {
   "cell_type": "markdown",
   "id": "b2dfe371",
   "metadata": {},
   "source": [
    "### Soru 4: Cinsiyet değişkenindeki eşsiz değerler nedir?"
   ]
  },
  {
   "cell_type": "code",
   "execution_count": null,
   "id": "0ab8e029",
   "metadata": {},
   "outputs": [],
   "source": [
    "df['Sex'].unique()"
   ]
  },
  {
   "cell_type": "markdown",
   "id": "cf1cff86",
   "metadata": {},
   "source": [
    "### Soru 5: `Pclass` değişkenindeki değerlerin yüzdesel dağılımı nedir?"
   ]
  },
  {
   "cell_type": "code",
   "execution_count": null,
   "id": "f533c6e5",
   "metadata": {},
   "outputs": [],
   "source": [
    "df['Pclass'].value_counts(normalize=True) * 100"
   ]
  },
  {
   "cell_type": "markdown",
   "id": "7702c2b6",
   "metadata": {},
   "source": [
    "### Soru 6: Yaşı 30'dan büyük kadın yolcular kimlerdir?"
   ]
  },
  {
   "cell_type": "code",
   "execution_count": null,
   "id": "69f4106f",
   "metadata": {},
   "outputs": [],
   "source": [
    "df[(df['Sex'] == 'female') & (df['Age'] > 30)]"
   ]
  },
  {
   "cell_type": "markdown",
   "id": "cd627f1d",
   "metadata": {},
   "source": [
    "### Soru 7: Yaşı 18'den küçük ve 1. sınıfta yolculuk eden yolcular kimlerdir?"
   ]
  },
  {
   "cell_type": "code",
   "execution_count": null,
   "id": "ed956b93",
   "metadata": {},
   "outputs": [],
   "source": [
    "df[(df['Age'] < 18) & (df['Pclass'] == 1)]"
   ]
  },
  {
   "cell_type": "markdown",
   "id": "089ffb8e",
   "metadata": {},
   "source": [
    "### Soru 8: İlk 10 gözlemden son 3'ünü gösterin."
   ]
  },
  {
   "cell_type": "code",
   "execution_count": null,
   "id": "4ebb8c9a",
   "metadata": {},
   "outputs": [],
   "source": [
    "df.head(10).tail(3)"
   ]
  },
  {
   "cell_type": "markdown",
   "id": "ef66c511",
   "metadata": {},
   "source": [
    "### Soru 9: Bilet fiyatı 100'den büyük olan kaç kişi var?"
   ]
  },
  {
   "cell_type": "code",
   "execution_count": null,
   "id": "2ced485f",
   "metadata": {},
   "outputs": [],
   "source": [
    "(df['Fare'] > 100).sum()"
   ]
  },
  {
   "cell_type": "markdown",
   "id": "3a778c92",
   "metadata": {},
   "source": [
    "### Soru 10: `Sex`, `Age`, `Fare` sütunlarını içeren yeni DataFrame oluşturun."
   ]
  },
  {
   "cell_type": "code",
   "execution_count": null,
   "id": "b9c7de18",
   "metadata": {},
   "outputs": [],
   "source": [
    "df[['Sex', 'Age', 'Fare']]"
   ]
  },
  {
   "cell_type": "markdown",
   "id": "cb2d99bd",
   "metadata": {},
   "source": [
    "### Soru 11: Cinsiyete göre yaş ortalaması nedir?"
   ]
  },
  {
   "cell_type": "code",
   "execution_count": null,
   "id": "4cc0878e",
   "metadata": {},
   "outputs": [],
   "source": [
    "df.groupby('Sex')['Age'].mean()"
   ]
  },
  {
   "cell_type": "markdown",
   "id": "0e0922a8",
   "metadata": {},
   "source": [
    "### Soru 12: Sınıfa göre hayatta kalan kişi sayısı nedir?"
   ]
  },
  {
   "cell_type": "code",
   "execution_count": null,
   "id": "ec097709",
   "metadata": {},
   "outputs": [],
   "source": [
    "df[df['Survived'] == 1]['Pclass'].value_counts()"
   ]
  },
  {
   "cell_type": "markdown",
   "id": "9b76e887",
   "metadata": {},
   "source": [
    "### Soru 13: Cinsiyet ve sınıfa göre hayatta kalma oranı nedir?"
   ]
  },
  {
   "cell_type": "code",
   "execution_count": null,
   "id": "bd866496",
   "metadata": {},
   "outputs": [],
   "source": [
    "df.groupby(['Sex', 'Pclass'])['Survived'].mean()"
   ]
  },
  {
   "cell_type": "markdown",
   "id": "7395d34a",
   "metadata": {},
   "source": [
    "### Soru 14: `Embarked`'a göre ortalama yaş ve ücret nedir?"
   ]
  },
  {
   "cell_type": "code",
   "execution_count": null,
   "id": "13d20b4a",
   "metadata": {},
   "outputs": [],
   "source": [
    "df.groupby('Embarked')[['Age', 'Fare']].mean()"
   ]
  },
  {
   "cell_type": "markdown",
   "id": "18fad244",
   "metadata": {},
   "source": [
    "### Soru 15: `Pclass`'a göre yaşın standart sapması nedir?"
   ]
  },
  {
   "cell_type": "code",
   "execution_count": null,
   "id": "50714fe6",
   "metadata": {},
   "outputs": [],
   "source": [
    "df.groupby('Pclass')['Age'].std()"
   ]
  },
  {
   "cell_type": "markdown",
   "id": "b2ebf3ce",
   "metadata": {},
   "source": [
    "### Soru 16: `Embarked` limanına göre yolcu sayısı ve yüzdesi nedir?"
   ]
  },
  {
   "cell_type": "code",
   "execution_count": null,
   "id": "99528eef",
   "metadata": {},
   "outputs": [],
   "source": [
    "df['Embarked'].value_counts(), df['Embarked'].value_counts(normalize=True) * 100"
   ]
  },
  {
   "cell_type": "markdown",
   "id": "f2b205ba",
   "metadata": {},
   "source": [
    "### Soru 17: Yaşı 60'tan büyük olanların hayatta kalma oranı nedir?"
   ]
  },
  {
   "cell_type": "code",
   "execution_count": null,
   "id": "e529cfd0",
   "metadata": {},
   "outputs": [],
   "source": [
    "df[df['Age'] > 60]['Survived'].mean()"
   ]
  },
  {
   "cell_type": "markdown",
   "id": "a3418912",
   "metadata": {},
   "source": [
    "### Soru 18: `Sex`, `Pclass`, `Survived` için ortalama yaş ve ücret nedir?"
   ]
  },
  {
   "cell_type": "code",
   "execution_count": null,
   "id": "33d060e1",
   "metadata": {},
   "outputs": [],
   "source": [
    "df.groupby(['Sex', 'Pclass', 'Survived'])[['Age', 'Fare']].mean()"
   ]
  },
  {
   "cell_type": "markdown",
   "id": "297c7936",
   "metadata": {},
   "source": [
    "### Soru 19: Yaş değişkenini artan düzende sıralayıp ilk 10 kişiyi gösterin."
   ]
  },
  {
   "cell_type": "code",
   "execution_count": null,
   "id": "bdf2c336",
   "metadata": {},
   "outputs": [],
   "source": [
    "df.sort_values(by='Age').head(10)"
   ]
  },
  {
   "cell_type": "markdown",
   "id": "c99f2207",
   "metadata": {},
   "source": [
    "### Soru 20: En pahalı bileti alan kişinin yaşı, cinsiyeti ve sınıfı nedir?"
   ]
  },
  {
   "cell_type": "code",
   "execution_count": null,
   "id": "046c5501",
   "metadata": {},
   "outputs": [],
   "source": [
    "df[df['Fare'] == df['Fare'].max()][['Age', 'Sex', 'Pclass']]"
   ]
  },
  {
   "cell_type": "markdown",
   "id": "ab95db54",
   "metadata": {},
   "source": [
    "### Soru 21: Hayatta kalanlar ve ölenler arasında yaş ortalaması farkı nedir?"
   ]
  },
  {
   "cell_type": "code",
   "execution_count": null,
   "id": "439179a8",
   "metadata": {},
   "outputs": [],
   "source": [
    "df.groupby('Survived')['Age'].mean().diff().iloc[-1]"
   ]
  },
  {
   "cell_type": "markdown",
   "id": "0392a848",
   "metadata": {},
   "source": [
    "### Soru 22: Hangi `Pclass` grubunda kadınların hayatta kalma oranı en yüksektir?"
   ]
  },
  {
   "cell_type": "code",
   "execution_count": null,
   "id": "8674dde7",
   "metadata": {},
   "outputs": [],
   "source": [
    "df[df['Sex'] == 'female'].groupby('Pclass')['Survived'].mean().idxmax()"
   ]
  },
  {
   "cell_type": "markdown",
   "id": "9a569bbc",
   "metadata": {},
   "source": [
    "### Soru 23: Ortalama yaşın altında olan ve hayatta kalan erkeklerin sayısı nedir?"
   ]
  },
  {
   "cell_type": "code",
   "execution_count": null,
   "id": "c514ee46",
   "metadata": {},
   "outputs": [],
   "source": [
    "(df[(df['Sex'] == 'male') & (df['Age'] < df['Age'].mean()) & (df['Survived'] == 1)]).shape[0]"
   ]
  },
  {
   "cell_type": "markdown",
   "id": "d61bd6a0",
   "metadata": {},
   "source": [
    "### Soru 24: `Cabin` değeri eksik olan ve olmayanların yaş ortalaması farkı nedir?"
   ]
  },
  {
   "cell_type": "code",
   "execution_count": null,
   "id": "299ca57a",
   "metadata": {},
   "outputs": [],
   "source": [
    "df[df['Cabin'].notna()]['Age'].mean() - df[df['Cabin'].isna()]['Age'].mean()"
   ]
  },
  {
   "cell_type": "markdown",
   "id": "f94c9904",
   "metadata": {},
   "source": [
    "### Soru 25: `.describe()` çıktısına göre çarpıklık hangi değişkenlerde olabilir?"
   ]
  },
  {
   "cell_type": "code",
   "execution_count": null,
   "id": "39f04205",
   "metadata": {},
   "outputs": [],
   "source": [
    "df.describe()  # Skewness hesaplaması için df.skew() kullanılabilir"
   ]
  },
  {
   "cell_type": "markdown",
   "id": "e270ee49",
   "metadata": {},
   "source": [
    "### Soru 26: Veri setindeki en sık görülen yaş (mod) değeri nedir?"
   ]
  },
  {
   "cell_type": "code",
   "execution_count": null,
   "id": "c90c67e6",
   "metadata": {},
   "outputs": [],
   "source": [
    "df['Age'].mode()[0]"
   ]
  },
  {
   "cell_type": "markdown",
   "id": "92f3539f",
   "metadata": {},
   "source": [
    "### Soru 27: Ortalama bilet fiyatı kadınlar mı erkekler için mi daha yüksektir?"
   ]
  },
  {
   "cell_type": "code",
   "execution_count": null,
   "id": "ded0a729",
   "metadata": {},
   "outputs": [],
   "source": [
    "df.groupby('Sex')['Fare'].mean()"
   ]
  }
 ],
 "metadata": {},
 "nbformat": 4,
 "nbformat_minor": 5
}
